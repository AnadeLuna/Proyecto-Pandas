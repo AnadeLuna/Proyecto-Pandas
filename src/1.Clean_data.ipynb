{
 "cells": [
  {
   "cell_type": "markdown",
   "id": "italic-spell",
   "metadata": {},
   "source": [
    "   # Clean the Global Shark Attaks."
   ]
  },
  {
   "cell_type": "markdown",
   "id": "experimental-automation",
   "metadata": {},
   "source": [
    "### 1º: Import all the libraries that i will need use to clean the DataSet."
   ]
  },
  {
   "cell_type": "code",
   "execution_count": 1,
   "id": "electrical-whole",
   "metadata": {},
   "outputs": [],
   "source": [
    "import numpy as np\n",
    "import pandas as pd\n",
    "import re"
   ]
  },
  {
   "cell_type": "markdown",
   "id": "conventional-chicago",
   "metadata": {},
   "source": [
    "### 2º: Import the DataSet from Kaggle. The Global Shark Attacks."
   ]
  },
  {
   "cell_type": "code",
   "execution_count": 64,
   "id": "banned-whale",
   "metadata": {
    "scrolled": true
   },
   "outputs": [],
   "source": [
    "data = pd.read_csv(\"../data/attacks.csv\",encoding = \"ISO-8859-1\")"
   ]
  },
  {
   "cell_type": "markdown",
   "id": "traditional-vault",
   "metadata": {},
   "source": [
    "### 3º: Start to explore the data from the DataSet."
   ]
  },
  {
   "cell_type": "code",
   "execution_count": 3,
   "id": "regional-organization",
   "metadata": {},
   "outputs": [
    {
     "data": {
      "text/plain": [
       "(25723, 24)"
      ]
     },
     "execution_count": 3,
     "metadata": {},
     "output_type": "execute_result"
    }
   ],
   "source": [
    "# Number of data.\n",
    "data.shape"
   ]
  },
  {
   "cell_type": "code",
   "execution_count": 4,
   "id": "previous-republic",
   "metadata": {
    "scrolled": false
   },
   "outputs": [
    {
     "data": {
      "text/plain": [
       "Index(['Case Number', 'Date', 'Year', 'Type', 'Country', 'Area', 'Location',\n",
       "       'Activity', 'Name', 'Sex ', 'Age', 'Injury', 'Fatal (Y/N)', 'Time',\n",
       "       'Species ', 'Investigator or Source', 'pdf', 'href formula', 'href',\n",
       "       'Case Number.1', 'Case Number.2', 'original order', 'Unnamed: 22',\n",
       "       'Unnamed: 23'],\n",
       "      dtype='object')"
      ]
     },
     "execution_count": 4,
     "metadata": {},
     "output_type": "execute_result"
    }
   ],
   "source": [
    "# All the information of data.\n",
    "data.columns"
   ]
  },
  {
   "cell_type": "code",
   "execution_count": 5,
   "id": "swiss-routine",
   "metadata": {},
   "outputs": [
    {
     "data": {
      "text/html": [
       "<div>\n",
       "<style scoped>\n",
       "    .dataframe tbody tr th:only-of-type {\n",
       "        vertical-align: middle;\n",
       "    }\n",
       "\n",
       "    .dataframe tbody tr th {\n",
       "        vertical-align: top;\n",
       "    }\n",
       "\n",
       "    .dataframe thead th {\n",
       "        text-align: right;\n",
       "    }\n",
       "</style>\n",
       "<table border=\"1\" class=\"dataframe\">\n",
       "  <thead>\n",
       "    <tr style=\"text-align: right;\">\n",
       "      <th></th>\n",
       "      <th>Case Number</th>\n",
       "      <th>Date</th>\n",
       "      <th>Year</th>\n",
       "      <th>Type</th>\n",
       "      <th>Country</th>\n",
       "      <th>Area</th>\n",
       "      <th>Location</th>\n",
       "      <th>Activity</th>\n",
       "      <th>Name</th>\n",
       "      <th>Sex</th>\n",
       "      <th>...</th>\n",
       "      <th>Species</th>\n",
       "      <th>Investigator or Source</th>\n",
       "      <th>pdf</th>\n",
       "      <th>href formula</th>\n",
       "      <th>href</th>\n",
       "      <th>Case Number.1</th>\n",
       "      <th>Case Number.2</th>\n",
       "      <th>original order</th>\n",
       "      <th>Unnamed: 22</th>\n",
       "      <th>Unnamed: 23</th>\n",
       "    </tr>\n",
       "  </thead>\n",
       "  <tbody>\n",
       "    <tr>\n",
       "      <th>0</th>\n",
       "      <td>2018.06.25</td>\n",
       "      <td>25-Jun-2018</td>\n",
       "      <td>2018.0</td>\n",
       "      <td>Boating</td>\n",
       "      <td>USA</td>\n",
       "      <td>California</td>\n",
       "      <td>Oceanside, San Diego County</td>\n",
       "      <td>Paddling</td>\n",
       "      <td>Julie Wolfe</td>\n",
       "      <td>F</td>\n",
       "      <td>...</td>\n",
       "      <td>White shark</td>\n",
       "      <td>R. Collier, GSAF</td>\n",
       "      <td>2018.06.25-Wolfe.pdf</td>\n",
       "      <td>http://sharkattackfile.net/spreadsheets/pdf_di...</td>\n",
       "      <td>http://sharkattackfile.net/spreadsheets/pdf_di...</td>\n",
       "      <td>2018.06.25</td>\n",
       "      <td>2018.06.25</td>\n",
       "      <td>6303.0</td>\n",
       "      <td>NaN</td>\n",
       "      <td>NaN</td>\n",
       "    </tr>\n",
       "    <tr>\n",
       "      <th>1</th>\n",
       "      <td>2018.06.18</td>\n",
       "      <td>18-Jun-2018</td>\n",
       "      <td>2018.0</td>\n",
       "      <td>Unprovoked</td>\n",
       "      <td>USA</td>\n",
       "      <td>Georgia</td>\n",
       "      <td>St. Simon Island, Glynn County</td>\n",
       "      <td>Standing</td>\n",
       "      <td>Adyson McNeely</td>\n",
       "      <td>F</td>\n",
       "      <td>...</td>\n",
       "      <td>NaN</td>\n",
       "      <td>K.McMurray, TrackingSharks.com</td>\n",
       "      <td>2018.06.18-McNeely.pdf</td>\n",
       "      <td>http://sharkattackfile.net/spreadsheets/pdf_di...</td>\n",
       "      <td>http://sharkattackfile.net/spreadsheets/pdf_di...</td>\n",
       "      <td>2018.06.18</td>\n",
       "      <td>2018.06.18</td>\n",
       "      <td>6302.0</td>\n",
       "      <td>NaN</td>\n",
       "      <td>NaN</td>\n",
       "    </tr>\n",
       "    <tr>\n",
       "      <th>2</th>\n",
       "      <td>2018.06.09</td>\n",
       "      <td>09-Jun-2018</td>\n",
       "      <td>2018.0</td>\n",
       "      <td>Invalid</td>\n",
       "      <td>USA</td>\n",
       "      <td>Hawaii</td>\n",
       "      <td>Habush, Oahu</td>\n",
       "      <td>Surfing</td>\n",
       "      <td>John Denges</td>\n",
       "      <td>M</td>\n",
       "      <td>...</td>\n",
       "      <td>NaN</td>\n",
       "      <td>K.McMurray, TrackingSharks.com</td>\n",
       "      <td>2018.06.09-Denges.pdf</td>\n",
       "      <td>http://sharkattackfile.net/spreadsheets/pdf_di...</td>\n",
       "      <td>http://sharkattackfile.net/spreadsheets/pdf_di...</td>\n",
       "      <td>2018.06.09</td>\n",
       "      <td>2018.06.09</td>\n",
       "      <td>6301.0</td>\n",
       "      <td>NaN</td>\n",
       "      <td>NaN</td>\n",
       "    </tr>\n",
       "    <tr>\n",
       "      <th>3</th>\n",
       "      <td>2018.06.08</td>\n",
       "      <td>08-Jun-2018</td>\n",
       "      <td>2018.0</td>\n",
       "      <td>Unprovoked</td>\n",
       "      <td>AUSTRALIA</td>\n",
       "      <td>New South Wales</td>\n",
       "      <td>Arrawarra Headland</td>\n",
       "      <td>Surfing</td>\n",
       "      <td>male</td>\n",
       "      <td>M</td>\n",
       "      <td>...</td>\n",
       "      <td>2 m shark</td>\n",
       "      <td>B. Myatt, GSAF</td>\n",
       "      <td>2018.06.08-Arrawarra.pdf</td>\n",
       "      <td>http://sharkattackfile.net/spreadsheets/pdf_di...</td>\n",
       "      <td>http://sharkattackfile.net/spreadsheets/pdf_di...</td>\n",
       "      <td>2018.06.08</td>\n",
       "      <td>2018.06.08</td>\n",
       "      <td>6300.0</td>\n",
       "      <td>NaN</td>\n",
       "      <td>NaN</td>\n",
       "    </tr>\n",
       "    <tr>\n",
       "      <th>4</th>\n",
       "      <td>2018.06.04</td>\n",
       "      <td>04-Jun-2018</td>\n",
       "      <td>2018.0</td>\n",
       "      <td>Provoked</td>\n",
       "      <td>MEXICO</td>\n",
       "      <td>Colima</td>\n",
       "      <td>La Ticla</td>\n",
       "      <td>Free diving</td>\n",
       "      <td>Gustavo Ramos</td>\n",
       "      <td>M</td>\n",
       "      <td>...</td>\n",
       "      <td>Tiger shark, 3m</td>\n",
       "      <td>A .Kipper</td>\n",
       "      <td>2018.06.04-Ramos.pdf</td>\n",
       "      <td>http://sharkattackfile.net/spreadsheets/pdf_di...</td>\n",
       "      <td>http://sharkattackfile.net/spreadsheets/pdf_di...</td>\n",
       "      <td>2018.06.04</td>\n",
       "      <td>2018.06.04</td>\n",
       "      <td>6299.0</td>\n",
       "      <td>NaN</td>\n",
       "      <td>NaN</td>\n",
       "    </tr>\n",
       "  </tbody>\n",
       "</table>\n",
       "<p>5 rows × 24 columns</p>\n",
       "</div>"
      ],
      "text/plain": [
       "  Case Number         Date    Year        Type    Country             Area  \\\n",
       "0  2018.06.25  25-Jun-2018  2018.0     Boating        USA       California   \n",
       "1  2018.06.18  18-Jun-2018  2018.0  Unprovoked        USA          Georgia   \n",
       "2  2018.06.09  09-Jun-2018  2018.0     Invalid        USA           Hawaii   \n",
       "3  2018.06.08  08-Jun-2018  2018.0  Unprovoked  AUSTRALIA  New South Wales   \n",
       "4  2018.06.04  04-Jun-2018  2018.0    Provoked     MEXICO           Colima   \n",
       "\n",
       "                         Location     Activity             Name Sex   ...  \\\n",
       "0     Oceanside, San Diego County     Paddling      Julie Wolfe    F  ...   \n",
       "1  St. Simon Island, Glynn County     Standing  Adyson McNeely     F  ...   \n",
       "2                    Habush, Oahu      Surfing      John Denges    M  ...   \n",
       "3              Arrawarra Headland      Surfing             male    M  ...   \n",
       "4                        La Ticla  Free diving   Gustavo Ramos     M  ...   \n",
       "\n",
       "          Species           Investigator or Source                       pdf  \\\n",
       "0      White shark                R. Collier, GSAF      2018.06.25-Wolfe.pdf   \n",
       "1              NaN  K.McMurray, TrackingSharks.com    2018.06.18-McNeely.pdf   \n",
       "2              NaN  K.McMurray, TrackingSharks.com     2018.06.09-Denges.pdf   \n",
       "3        2 m shark                  B. Myatt, GSAF  2018.06.08-Arrawarra.pdf   \n",
       "4  Tiger shark, 3m                       A .Kipper      2018.06.04-Ramos.pdf   \n",
       "\n",
       "                                        href formula  \\\n",
       "0  http://sharkattackfile.net/spreadsheets/pdf_di...   \n",
       "1  http://sharkattackfile.net/spreadsheets/pdf_di...   \n",
       "2  http://sharkattackfile.net/spreadsheets/pdf_di...   \n",
       "3  http://sharkattackfile.net/spreadsheets/pdf_di...   \n",
       "4  http://sharkattackfile.net/spreadsheets/pdf_di...   \n",
       "\n",
       "                                                href Case Number.1  \\\n",
       "0  http://sharkattackfile.net/spreadsheets/pdf_di...    2018.06.25   \n",
       "1  http://sharkattackfile.net/spreadsheets/pdf_di...    2018.06.18   \n",
       "2  http://sharkattackfile.net/spreadsheets/pdf_di...    2018.06.09   \n",
       "3  http://sharkattackfile.net/spreadsheets/pdf_di...    2018.06.08   \n",
       "4  http://sharkattackfile.net/spreadsheets/pdf_di...    2018.06.04   \n",
       "\n",
       "  Case Number.2 original order Unnamed: 22 Unnamed: 23  \n",
       "0    2018.06.25         6303.0         NaN         NaN  \n",
       "1    2018.06.18         6302.0         NaN         NaN  \n",
       "2    2018.06.09         6301.0         NaN         NaN  \n",
       "3    2018.06.08         6300.0         NaN         NaN  \n",
       "4    2018.06.04         6299.0         NaN         NaN  \n",
       "\n",
       "[5 rows x 24 columns]"
      ]
     },
     "execution_count": 5,
     "metadata": {},
     "output_type": "execute_result"
    }
   ],
   "source": [
    "data.head(5)"
   ]
  },
  {
   "cell_type": "markdown",
   "id": "centered-uniform",
   "metadata": {},
   "source": [
    "### 4º: Start to clean the dataframe to select all data for my hypothesis. I going to select the date,year, country, sex and fatal. Because I want to compare in the last 10 years."
   ]
  },
  {
   "cell_type": "code",
   "execution_count": 6,
   "id": "living-factory",
   "metadata": {},
   "outputs": [],
   "source": [
    "# I´m going to select until the row 6301. Because the rest of the data it´s null.\n",
    "data1 = data.loc[:6301]"
   ]
  },
  {
   "cell_type": "code",
   "execution_count": 7,
   "id": "tracked-agent",
   "metadata": {},
   "outputs": [],
   "source": [
    "#I´m gonna drop the nexts columns:\n",
    "data2 = data1.drop(columns=[\"Unnamed: 23\",\"Unnamed: 22\",\"href formula\"],inplace= False)"
   ]
  },
  {
   "cell_type": "code",
   "execution_count": 8,
   "id": "novel-honolulu",
   "metadata": {
    "scrolled": true
   },
   "outputs": [],
   "source": [
    "# Then I start to clean the Date:\n",
    "date_new = data2[\"Date\"]"
   ]
  },
  {
   "cell_type": "code",
   "execution_count": 9,
   "id": "attached-dutch",
   "metadata": {
    "scrolled": true
   },
   "outputs": [],
   "source": [
    "str_date = \",\".join(date_new)"
   ]
  },
  {
   "cell_type": "code",
   "execution_count": 10,
   "id": "improving-zambia",
   "metadata": {},
   "outputs": [],
   "source": [
    "pattern = r'(\\d\\d-\\w+-\\d{4}|\\w+-\\d{4}|\\d{4})'\n",
    "date_search = re.findall(pattern,str_date)"
   ]
  },
  {
   "cell_type": "code",
   "execution_count": 11,
   "id": "radio-match",
   "metadata": {},
   "outputs": [],
   "source": [
    "new_date = pd.Series(date_search)\n",
    "data2[\"Date\"] = new_date"
   ]
  },
  {
   "cell_type": "code",
   "execution_count": 12,
   "id": "fantastic-consultancy",
   "metadata": {},
   "outputs": [
    {
     "data": {
      "text/plain": [
       "6302"
      ]
     },
     "execution_count": 12,
     "metadata": {},
     "output_type": "execute_result"
    }
   ],
   "source": [
    "data4 = data2.sort_values(\"Date\")\n",
    "len(data4)"
   ]
  },
  {
   "cell_type": "code",
   "execution_count": 13,
   "id": "alpha-lodge",
   "metadata": {},
   "outputs": [
    {
     "data": {
      "text/plain": [
       "range(1, 6303)"
      ]
     },
     "execution_count": 13,
     "metadata": {},
     "output_type": "execute_result"
    }
   ],
   "source": [
    "index =range(1,6303)\n",
    "index"
   ]
  },
  {
   "cell_type": "code",
   "execution_count": 14,
   "id": "lined-rider",
   "metadata": {},
   "outputs": [],
   "source": [
    "data4.index = pd.Series(index)"
   ]
  },
  {
   "cell_type": "code",
   "execution_count": 15,
   "id": "narrow-overview",
   "metadata": {
    "scrolled": false
   },
   "outputs": [
    {
     "data": {
      "text/html": [
       "<div>\n",
       "<style scoped>\n",
       "    .dataframe tbody tr th:only-of-type {\n",
       "        vertical-align: middle;\n",
       "    }\n",
       "\n",
       "    .dataframe tbody tr th {\n",
       "        vertical-align: top;\n",
       "    }\n",
       "\n",
       "    .dataframe thead th {\n",
       "        text-align: right;\n",
       "    }\n",
       "</style>\n",
       "<table border=\"1\" class=\"dataframe\">\n",
       "  <thead>\n",
       "    <tr style=\"text-align: right;\">\n",
       "      <th></th>\n",
       "      <th>Case Number</th>\n",
       "      <th>Date</th>\n",
       "      <th>Year</th>\n",
       "      <th>Type</th>\n",
       "      <th>Country</th>\n",
       "      <th>Area</th>\n",
       "      <th>Location</th>\n",
       "      <th>Activity</th>\n",
       "      <th>Name</th>\n",
       "      <th>Sex</th>\n",
       "      <th>...</th>\n",
       "      <th>Injury</th>\n",
       "      <th>Fatal (Y/N)</th>\n",
       "      <th>Time</th>\n",
       "      <th>Species</th>\n",
       "      <th>Investigator or Source</th>\n",
       "      <th>pdf</th>\n",
       "      <th>href</th>\n",
       "      <th>Case Number.1</th>\n",
       "      <th>Case Number.2</th>\n",
       "      <th>original order</th>\n",
       "    </tr>\n",
       "  </thead>\n",
       "  <tbody>\n",
       "    <tr>\n",
       "      <th>1276</th>\n",
       "      <td>2017.01.08.R</td>\n",
       "      <td>08-Jan-2017</td>\n",
       "      <td>NaN</td>\n",
       "      <td>Invalid</td>\n",
       "      <td>AUSTRALIA</td>\n",
       "      <td>Queensland</td>\n",
       "      <td>NaN</td>\n",
       "      <td>Spearfishing</td>\n",
       "      <td>Kerry Daniel</td>\n",
       "      <td>M</td>\n",
       "      <td>...</td>\n",
       "      <td>No attack, shark made a threat display</td>\n",
       "      <td>NaN</td>\n",
       "      <td>NaN</td>\n",
       "      <td>Bull shark</td>\n",
       "      <td>Liquid Vision 1/8/2017</td>\n",
       "      <td>2017.01.08.R-KerryDaniel.pdf</td>\n",
       "      <td>http://sharkattackfile.net/spreadsheets/pdf_di...</td>\n",
       "      <td>2017.01.08.R</td>\n",
       "      <td>2017.01.08.R</td>\n",
       "      <td>6116.0</td>\n",
       "    </tr>\n",
       "    <tr>\n",
       "      <th>6019</th>\n",
       "      <td>1836.08.19.R</td>\n",
       "      <td>Dec-1840</td>\n",
       "      <td>NaN</td>\n",
       "      <td>Unprovoked</td>\n",
       "      <td>ENGLAND</td>\n",
       "      <td>Cumberland</td>\n",
       "      <td>Whitehaven</td>\n",
       "      <td>Swimming</td>\n",
       "      <td>a boy</td>\n",
       "      <td>M</td>\n",
       "      <td>...</td>\n",
       "      <td>FATAL</td>\n",
       "      <td>Y</td>\n",
       "      <td>NaN</td>\n",
       "      <td>NaN</td>\n",
       "      <td>C. Moore, GSAF</td>\n",
       "      <td>1835.08.19.R-Whitehaven.pdf</td>\n",
       "      <td>http://sharkattackfile.net/spreadsheets/pdf_di...</td>\n",
       "      <td>1836.08.19.R</td>\n",
       "      <td>1836.08.19.R</td>\n",
       "      <td>224.0</td>\n",
       "    </tr>\n",
       "  </tbody>\n",
       "</table>\n",
       "<p>2 rows × 21 columns</p>\n",
       "</div>"
      ],
      "text/plain": [
       "       Case Number         Date  Year        Type    Country        Area  \\\n",
       "1276  2017.01.08.R  08-Jan-2017   NaN     Invalid  AUSTRALIA  Queensland   \n",
       "6019  1836.08.19.R     Dec-1840   NaN  Unprovoked    ENGLAND  Cumberland   \n",
       "\n",
       "        Location      Activity          Name Sex   ...  \\\n",
       "1276         NaN  Spearfishing  Kerry Daniel    M  ...   \n",
       "6019  Whitehaven      Swimming         a boy    M  ...   \n",
       "\n",
       "                                      Injury Fatal (Y/N) Time    Species   \\\n",
       "1276  No attack, shark made a threat display         NaN  NaN  Bull shark   \n",
       "6019                                   FATAL           Y  NaN         NaN   \n",
       "\n",
       "      Investigator or Source                           pdf  \\\n",
       "1276  Liquid Vision 1/8/2017  2017.01.08.R-KerryDaniel.pdf   \n",
       "6019          C. Moore, GSAF   1835.08.19.R-Whitehaven.pdf   \n",
       "\n",
       "                                                   href Case Number.1  \\\n",
       "1276  http://sharkattackfile.net/spreadsheets/pdf_di...  2017.01.08.R   \n",
       "6019  http://sharkattackfile.net/spreadsheets/pdf_di...  1836.08.19.R   \n",
       "\n",
       "     Case Number.2 original order  \n",
       "1276  2017.01.08.R         6116.0  \n",
       "6019  1836.08.19.R          224.0  \n",
       "\n",
       "[2 rows x 21 columns]"
      ]
     },
     "execution_count": 15,
     "metadata": {},
     "output_type": "execute_result"
    }
   ],
   "source": [
    "#Now to clean the Year:\n",
    "data4[data4[\"Year\"].isnull()]"
   ]
  },
  {
   "cell_type": "code",
   "execution_count": 16,
   "id": "essential-angel",
   "metadata": {},
   "outputs": [
    {
     "name": "stderr",
     "output_type": "stream",
     "text": [
      "<ipython-input-16-281e61e8c5db>:1: SettingWithCopyWarning: \n",
      "A value is trying to be set on a copy of a slice from a DataFrame\n",
      "\n",
      "See the caveats in the documentation: https://pandas.pydata.org/pandas-docs/stable/user_guide/indexing.html#returning-a-view-versus-a-copy\n",
      "  data4[\"Year\"][1276] = 2017\n"
     ]
    }
   ],
   "source": [
    "data4[\"Year\"][1276] = 2017"
   ]
  },
  {
   "cell_type": "code",
   "execution_count": 17,
   "id": "affecting-protocol",
   "metadata": {
    "scrolled": false
   },
   "outputs": [
    {
     "name": "stderr",
     "output_type": "stream",
     "text": [
      "<ipython-input-17-0aea86e266f7>:1: SettingWithCopyWarning: \n",
      "A value is trying to be set on a copy of a slice from a DataFrame\n",
      "\n",
      "See the caveats in the documentation: https://pandas.pydata.org/pandas-docs/stable/user_guide/indexing.html#returning-a-view-versus-a-copy\n",
      "  data4[\"Year\"][6019] = 1840\n"
     ]
    }
   ],
   "source": [
    "data4[\"Year\"][6019] = 1840"
   ]
  },
  {
   "cell_type": "code",
   "execution_count": 18,
   "id": "compact-utilization",
   "metadata": {},
   "outputs": [
    {
     "data": {
      "text/html": [
       "<div>\n",
       "<style scoped>\n",
       "    .dataframe tbody tr th:only-of-type {\n",
       "        vertical-align: middle;\n",
       "    }\n",
       "\n",
       "    .dataframe tbody tr th {\n",
       "        vertical-align: top;\n",
       "    }\n",
       "\n",
       "    .dataframe thead th {\n",
       "        text-align: right;\n",
       "    }\n",
       "</style>\n",
       "<table border=\"1\" class=\"dataframe\">\n",
       "  <thead>\n",
       "    <tr style=\"text-align: right;\">\n",
       "      <th></th>\n",
       "      <th>Case Number</th>\n",
       "      <th>Date</th>\n",
       "      <th>Year</th>\n",
       "      <th>Type</th>\n",
       "      <th>Country</th>\n",
       "      <th>Area</th>\n",
       "      <th>Location</th>\n",
       "      <th>Activity</th>\n",
       "      <th>Name</th>\n",
       "      <th>Sex</th>\n",
       "      <th>...</th>\n",
       "      <th>Injury</th>\n",
       "      <th>Fatal (Y/N)</th>\n",
       "      <th>Time</th>\n",
       "      <th>Species</th>\n",
       "      <th>Investigator or Source</th>\n",
       "      <th>pdf</th>\n",
       "      <th>href</th>\n",
       "      <th>Case Number.1</th>\n",
       "      <th>Case Number.2</th>\n",
       "      <th>original order</th>\n",
       "    </tr>\n",
       "  </thead>\n",
       "  <tbody>\n",
       "  </tbody>\n",
       "</table>\n",
       "<p>0 rows × 21 columns</p>\n",
       "</div>"
      ],
      "text/plain": [
       "Empty DataFrame\n",
       "Columns: [Case Number, Date, Year, Type, Country, Area, Location, Activity, Name, Sex , Age, Injury, Fatal (Y/N), Time, Species , Investigator or Source, pdf, href, Case Number.1, Case Number.2, original order]\n",
       "Index: []\n",
       "\n",
       "[0 rows x 21 columns]"
      ]
     },
     "execution_count": 18,
     "metadata": {},
     "output_type": "execute_result"
    }
   ],
   "source": [
    "data4[data4[\"Year\"].isnull()]"
   ]
  },
  {
   "cell_type": "code",
   "execution_count": 19,
   "id": "western-speed",
   "metadata": {},
   "outputs": [
    {
     "data": {
      "text/plain": [
       "2015    143\n",
       "2017    137\n",
       "2016    130\n",
       "2011    128\n",
       "2014    127\n",
       "       ... \n",
       "1786      1\n",
       "1758      1\n",
       "1742      1\n",
       "1738      1\n",
       "1554      1\n",
       "Name: Year, Length: 249, dtype: int64"
      ]
     },
     "execution_count": 19,
     "metadata": {},
     "output_type": "execute_result"
    }
   ],
   "source": [
    "year = data4[\"Year\"].apply(lambda x: int(x))\n",
    "data4[\"Year\"] = year\n",
    "data4[\"Year\"].value_counts()"
   ]
  },
  {
   "cell_type": "code",
   "execution_count": 20,
   "id": "marine-tunnel",
   "metadata": {
    "scrolled": true
   },
   "outputs": [
    {
     "data": {
      "text/plain": [
       "Case Number                  1\n",
       "Date                         0\n",
       "Year                         0\n",
       "Type                         4\n",
       "Country                     50\n",
       "Area                       455\n",
       "Location                   540\n",
       "Activity                   544\n",
       "Name                       210\n",
       "Sex                        565\n",
       "Age                       2831\n",
       "Injury                      28\n",
       "Fatal (Y/N)                539\n",
       "Time                      3354\n",
       "Species                   2838\n",
       "Investigator or Source      17\n",
       "pdf                          0\n",
       "href                         0\n",
       "Case Number.1                0\n",
       "Case Number.2                0\n",
       "original order               0\n",
       "dtype: int64"
      ]
     },
     "execution_count": 20,
     "metadata": {},
     "output_type": "execute_result"
    }
   ],
   "source": [
    "data4.isnull().sum()"
   ]
  },
  {
   "cell_type": "code",
   "execution_count": 21,
   "id": "bibliographic-buyer",
   "metadata": {},
   "outputs": [],
   "source": [
    "# Delete the rest information that i´ll not use.\n",
    "data6 = data4.drop(columns=[\"Case Number\",\"Type\",\"Area\",\"Location\",\"Name\",\"Age\",\"Injury\",\"Time\",\"Investigator or Source\",\"pdf\",\"href\",\"Case Number.1\",\"Case Number.2\",\"original order\",],inplace= False)\n",
    "data7 = data6.drop(columns=[\"Species \"],inplace= False)"
   ]
  },
  {
   "cell_type": "code",
   "execution_count": 22,
   "id": "departmental-hampshire",
   "metadata": {},
   "outputs": [],
   "source": [
    "data10 = data7.drop(columns=[\"Activity\"],inplace= False)"
   ]
  },
  {
   "cell_type": "code",
   "execution_count": 23,
   "id": "powerful-brass",
   "metadata": {},
   "outputs": [
    {
     "data": {
      "text/plain": [
       "array(['M', 'F', nan, 'lli', 'M ', '.', 'N'], dtype=object)"
      ]
     },
     "execution_count": 23,
     "metadata": {},
     "output_type": "execute_result"
    }
   ],
   "source": [
    "#Clean Columns of Sex\n",
    "data10[\"Sex \"].unique()"
   ]
  },
  {
   "cell_type": "code",
   "execution_count": 24,
   "id": "multiple-family",
   "metadata": {},
   "outputs": [
    {
     "data": {
      "text/plain": [
       "array(['M', 'F', nan, 'Null'], dtype=object)"
      ]
     },
     "execution_count": 24,
     "metadata": {},
     "output_type": "execute_result"
    }
   ],
   "source": [
    "data10[data10[\"Sex \"] == \"M \"] = \"M\"\n",
    "data10[data10[\"Sex \"] == \"lli\"] = \"Null\"\n",
    "data10[data10[\"Sex \"] == \".\"] = \"Null\"\n",
    "data10[data10[\"Sex \"] == \"N\"] = \"Null\"\n",
    "data10[\"Sex \"].unique()"
   ]
  },
  {
   "cell_type": "code",
   "execution_count": 25,
   "id": "hairy-given",
   "metadata": {},
   "outputs": [
    {
     "data": {
      "text/plain": [
       "array(['Y', 'N', nan, ' N', 'UNKNOWN', '2017', 'Null', 'M', 'N ', 'y'],\n",
       "      dtype=object)"
      ]
     },
     "execution_count": 25,
     "metadata": {},
     "output_type": "execute_result"
    }
   ],
   "source": [
    "#Clean Columns of Fatal (Y/N)\n",
    "data10[\"Fatal (Y/N)\"].unique()"
   ]
  },
  {
   "cell_type": "code",
   "execution_count": 26,
   "id": "oriental-eating",
   "metadata": {},
   "outputs": [
    {
     "data": {
      "text/plain": [
       "array(['Y', 'N', nan, 'Null'], dtype=object)"
      ]
     },
     "execution_count": 26,
     "metadata": {},
     "output_type": "execute_result"
    }
   ],
   "source": [
    "data10[data10[\"Fatal (Y/N)\"] == \" N\"] = \"N\"\n",
    "data10[data10[\"Fatal (Y/N)\"] == \"UNKNOWN\"] = \"Null\"\n",
    "data10[data10[\"Fatal (Y/N)\"] == \"2017\"] = \"Null\"\n",
    "data10[data10[\"Fatal (Y/N)\"] == \"M\"] = \"N\"\n",
    "data10[data10[\"Fatal (Y/N)\"] == \"y\"] = \"Y\"\n",
    "data10[data10[\"Fatal (Y/N)\"] == \"N \"] = \"N\"\n",
    "data10[\"Fatal (Y/N)\"].unique()"
   ]
  },
  {
   "cell_type": "code",
   "execution_count": 27,
   "id": "british-microwave",
   "metadata": {
    "scrolled": true
   },
   "outputs": [
    {
     "data": {
      "text/plain": [
       "Int64Index([  34,  143,  145,  146,  342,  571,  591,  639,  743,  826,  866,\n",
       "            1003, 1135, 1224, 1366, 1590, 1597, 1652, 1663, 1867, 1877, 2261,\n",
       "            2320, 2348, 2365, 2412, 2536, 2626, 2673, 2702, 2716, 2766, 2781,\n",
       "            2782, 2878, 2951, 3004, 3006, 3008, 3009, 3023, 3051, 3129, 3165,\n",
       "            3178, 3430, 3563, 3566, 3639, 3673, 3681, 3768, 3802, 3821, 3836,\n",
       "            3868, 3925, 4082, 4154, 4225, 4291, 4306, 4347, 4374, 4412, 4575,\n",
       "            4673, 4960, 4993, 5033, 5105, 5110, 5128, 5150, 5186, 5197, 5320,\n",
       "            5329, 5455, 5549, 5560, 5581, 5694, 5952, 6035, 6078, 6223, 6287],\n",
       "           dtype='int64')"
      ]
     },
     "execution_count": 27,
     "metadata": {},
     "output_type": "execute_result"
    }
   ],
   "source": [
    "# Then I´m going to clean of the empty data of sex y fatal.\n",
    "null_data = data10[data10[\"Sex \"] == data10[\"Fatal (Y/N)\"]]\n",
    "null_data.index"
   ]
  },
  {
   "cell_type": "code",
   "execution_count": 28,
   "id": "absent-newton",
   "metadata": {
    "scrolled": true
   },
   "outputs": [],
   "source": [
    "data11 = data10.drop(axis=0,index=null_data.index)"
   ]
  },
  {
   "cell_type": "code",
   "execution_count": 29,
   "id": "adopted-egypt",
   "metadata": {
    "scrolled": false
   },
   "outputs": [],
   "source": [
    "data11.dropna(axis=0, subset=['Sex ','Fatal (Y/N)'],inplace= True)"
   ]
  },
  {
   "cell_type": "code",
   "execution_count": 30,
   "id": "divine-nothing",
   "metadata": {
    "scrolled": true
   },
   "outputs": [
    {
     "data": {
      "text/plain": [
       "Date       \n",
       "1950           15\n",
       "1960           12\n",
       "1958           11\n",
       "1957           11\n",
       "1942            9\n",
       "               ..\n",
       "12-Nov-2013     1\n",
       "12-Oct-1921     1\n",
       "12-Oct-1927     1\n",
       "12-Oct-1942     1\n",
       "Summer-2008     1\n",
       "Length: 4409, dtype: int64"
      ]
     },
     "execution_count": 30,
     "metadata": {},
     "output_type": "execute_result"
    }
   ],
   "source": [
    "data11.value_counts(subset=[\"Date\"])"
   ]
  },
  {
   "cell_type": "code",
   "execution_count": 31,
   "id": "immune-rabbit",
   "metadata": {
    "scrolled": true
   },
   "outputs": [
    {
     "data": {
      "text/plain": [
       "5220"
      ]
     },
     "execution_count": 31,
     "metadata": {},
     "output_type": "execute_result"
    }
   ],
   "source": [
    "len(data11)"
   ]
  },
  {
   "cell_type": "code",
   "execution_count": 32,
   "id": "visible-alfred",
   "metadata": {},
   "outputs": [
    {
     "data": {
      "text/plain": [
       "5220"
      ]
     },
     "execution_count": 32,
     "metadata": {},
     "output_type": "execute_result"
    }
   ],
   "source": [
    "#Now I´m going to rename the columns:\n",
    "index2 = range(1,5221)\n",
    "data11.index = index2\n",
    "data_clear = data11.rename(columns={\"Sex \":\"Sex\",\"Fatal (Y/N)\":\"Fatal\"})\n",
    "len(data_clear)"
   ]
  },
  {
   "cell_type": "code",
   "execution_count": 33,
   "id": "talented-jordan",
   "metadata": {
    "scrolled": true
   },
   "outputs": [],
   "source": [
    "# I think that i need to clean better the Date.\n",
    "moth_year = data_clear[\"Date\"]\n",
    "str_moth_year = \",\".join(moth_year)\n",
    "pattern = r'(\\w+-\\d{4}|\\d{4})'\n",
    "str_moth_year_search = re.findall(pattern,str_moth_year)\n",
    "len(str_moth_year_search)\n",
    "new_moth_year = pd.Series(str_moth_year_search)\n",
    "data_clear[\"Date\"] = new_moth_year\n"
   ]
  },
  {
   "cell_type": "code",
   "execution_count": 34,
   "id": "internal-steering",
   "metadata": {},
   "outputs": [
    {
     "data": {
      "text/plain": [
       "'2018'"
      ]
     },
     "execution_count": 34,
     "metadata": {},
     "output_type": "execute_result"
    }
   ],
   "source": [
    "data_clear[\"Date\"][5220] = \"2018\"\n",
    "data_clear[\"Date\"][5220]"
   ]
  },
  {
   "cell_type": "code",
   "execution_count": 35,
   "id": "jewish-violence",
   "metadata": {},
   "outputs": [
    {
     "data": {
      "text/plain": [
       "5237"
      ]
     },
     "execution_count": 35,
     "metadata": {},
     "output_type": "execute_result"
    }
   ],
   "source": [
    "moth_date = data_clear[\"Date\"]\n",
    "list_moth_str = \",\".join(moth_date)\n",
    "len(list_moth_str)\n",
    "pattern = r'(\\D+)'\n",
    "str_moth_search = re.findall(pattern,list_moth_str)\n",
    "len(str_moth_search)"
   ]
  },
  {
   "cell_type": "code",
   "execution_count": 36,
   "id": "personal-documentary",
   "metadata": {
    "scrolled": true
   },
   "outputs": [],
   "source": [
    "mon_search = pd.Series(str_moth_search)\n",
    "data_clear[\"Date\"] = mon_search"
   ]
  },
  {
   "cell_type": "code",
   "execution_count": 37,
   "id": "announced-march",
   "metadata": {},
   "outputs": [],
   "source": [
    "df= data_clear.rename(columns={\"Date\":\"Moth\"})"
   ]
  },
  {
   "cell_type": "code",
   "execution_count": 38,
   "id": "nearby-custom",
   "metadata": {},
   "outputs": [],
   "source": [
    "data_clear1 = data_clear.rename(columns={\"Date\":\"Moth\"})"
   ]
  },
  {
   "cell_type": "code",
   "execution_count": 39,
   "id": "difficult-wedding",
   "metadata": {
    "scrolled": true
   },
   "outputs": [
    {
     "data": {
      "text/html": [
       "<div>\n",
       "<style scoped>\n",
       "    .dataframe tbody tr th:only-of-type {\n",
       "        vertical-align: middle;\n",
       "    }\n",
       "\n",
       "    .dataframe tbody tr th {\n",
       "        vertical-align: top;\n",
       "    }\n",
       "\n",
       "    .dataframe thead th {\n",
       "        text-align: right;\n",
       "    }\n",
       "</style>\n",
       "<table border=\"1\" class=\"dataframe\">\n",
       "  <thead>\n",
       "    <tr style=\"text-align: right;\">\n",
       "      <th></th>\n",
       "      <th>Moth</th>\n",
       "      <th>Year</th>\n",
       "      <th>Country</th>\n",
       "      <th>Sex</th>\n",
       "      <th>Fatal</th>\n",
       "    </tr>\n",
       "  </thead>\n",
       "  <tbody>\n",
       "    <tr>\n",
       "      <th>1</th>\n",
       "      <td>,Apr-</td>\n",
       "      <td>1934</td>\n",
       "      <td>CHILE</td>\n",
       "      <td>M</td>\n",
       "      <td>Y</td>\n",
       "    </tr>\n",
       "    <tr>\n",
       "      <th>2</th>\n",
       "      <td>,Apr-</td>\n",
       "      <td>1934</td>\n",
       "      <td>TURKEY</td>\n",
       "      <td>M</td>\n",
       "      <td>N</td>\n",
       "    </tr>\n",
       "    <tr>\n",
       "      <th>3</th>\n",
       "      <td>,Apr-</td>\n",
       "      <td>1934</td>\n",
       "      <td>AUSTRALIA</td>\n",
       "      <td>M</td>\n",
       "      <td>N</td>\n",
       "    </tr>\n",
       "    <tr>\n",
       "      <th>4</th>\n",
       "      <td>,Apr-</td>\n",
       "      <td>1960</td>\n",
       "      <td>FIJI</td>\n",
       "      <td>F</td>\n",
       "      <td>Y</td>\n",
       "    </tr>\n",
       "    <tr>\n",
       "      <th>5</th>\n",
       "      <td>,Apr-</td>\n",
       "      <td>1972</td>\n",
       "      <td>MOZAMBIQUE</td>\n",
       "      <td>M</td>\n",
       "      <td>Y</td>\n",
       "    </tr>\n",
       "  </tbody>\n",
       "</table>\n",
       "</div>"
      ],
      "text/plain": [
       "    Moth  Year     Country Sex Fatal\n",
       "1  ,Apr-  1934       CHILE   M     Y\n",
       "2  ,Apr-  1934      TURKEY   M     N\n",
       "3  ,Apr-  1934   AUSTRALIA   M     N\n",
       "4  ,Apr-  1960        FIJI   F     Y\n",
       "5  ,Apr-  1972  MOZAMBIQUE   M     Y"
      ]
     },
     "execution_count": 39,
     "metadata": {},
     "output_type": "execute_result"
    }
   ],
   "source": [
    "# Now I´m gonna clean the Year again.\n",
    "data_clear1.head(5)"
   ]
  },
  {
   "cell_type": "code",
   "execution_count": 40,
   "id": "foster-orbit",
   "metadata": {
    "scrolled": true
   },
   "outputs": [
    {
     "data": {
      "text/plain": [
       "Int64Index([1083, 2219, 2220, 2221, 2222, 2371, 2372, 2373, 2374, 2375,\n",
       "            ...\n",
       "            4947, 4989, 4990, 5031, 5045, 5135, 5146, 5153, 5154, 5200],\n",
       "           dtype='int64', length=115)"
      ]
     },
     "execution_count": 40,
     "metadata": {},
     "output_type": "execute_result"
    }
   ],
   "source": [
    "no_year = data_clear1[data_clear1[\"Year\"] == 0]\n",
    "no_year.index"
   ]
  },
  {
   "cell_type": "code",
   "execution_count": 41,
   "id": "economic-effectiveness",
   "metadata": {
    "scrolled": true
   },
   "outputs": [],
   "source": [
    "data_clear1.drop(axis=0, index=no_year.index, inplace= True )"
   ]
  },
  {
   "cell_type": "code",
   "execution_count": 42,
   "id": "sweet-optimum",
   "metadata": {
    "scrolled": true
   },
   "outputs": [
    {
     "data": {
      "text/html": [
       "<div>\n",
       "<style scoped>\n",
       "    .dataframe tbody tr th:only-of-type {\n",
       "        vertical-align: middle;\n",
       "    }\n",
       "\n",
       "    .dataframe tbody tr th {\n",
       "        vertical-align: top;\n",
       "    }\n",
       "\n",
       "    .dataframe thead th {\n",
       "        text-align: right;\n",
       "    }\n",
       "</style>\n",
       "<table border=\"1\" class=\"dataframe\">\n",
       "  <thead>\n",
       "    <tr style=\"text-align: right;\">\n",
       "      <th></th>\n",
       "      <th>Moth</th>\n",
       "      <th>Year</th>\n",
       "      <th>Country</th>\n",
       "      <th>Sex</th>\n",
       "      <th>Fatal</th>\n",
       "    </tr>\n",
       "  </thead>\n",
       "  <tbody>\n",
       "    <tr>\n",
       "      <th>2498</th>\n",
       "      <td>,</td>\n",
       "      <td>5</td>\n",
       "      <td>AUSTRALIA</td>\n",
       "      <td>M</td>\n",
       "      <td>N</td>\n",
       "    </tr>\n",
       "    <tr>\n",
       "      <th>2500</th>\n",
       "      <td>,</td>\n",
       "      <td>77</td>\n",
       "      <td>NaN</td>\n",
       "      <td>M</td>\n",
       "      <td>Y</td>\n",
       "    </tr>\n",
       "    <tr>\n",
       "      <th>4202</th>\n",
       "      <td>,Jun-</td>\n",
       "      <td>500</td>\n",
       "      <td>MEXICO</td>\n",
       "      <td>M</td>\n",
       "      <td>N</td>\n",
       "    </tr>\n",
       "    <tr>\n",
       "      <th>2501</th>\n",
       "      <td>,</td>\n",
       "      <td>1543</td>\n",
       "      <td>VENEZUELA</td>\n",
       "      <td>M</td>\n",
       "      <td>Y</td>\n",
       "    </tr>\n",
       "    <tr>\n",
       "      <th>720</th>\n",
       "      <td>,Apr-</td>\n",
       "      <td>1580</td>\n",
       "      <td>Between PORTUGAL &amp; INDIA</td>\n",
       "      <td>M</td>\n",
       "      <td>Y</td>\n",
       "    </tr>\n",
       "    <tr>\n",
       "      <th>...</th>\n",
       "      <td>...</td>\n",
       "      <td>...</td>\n",
       "      <td>...</td>\n",
       "      <td>...</td>\n",
       "      <td>...</td>\n",
       "    </tr>\n",
       "    <tr>\n",
       "      <th>1298</th>\n",
       "      <td>,Aug-</td>\n",
       "      <td>2018</td>\n",
       "      <td>BRAZIL</td>\n",
       "      <td>M</td>\n",
       "      <td>N</td>\n",
       "    </tr>\n",
       "    <tr>\n",
       "      <th>4021</th>\n",
       "      <td>,Jun-</td>\n",
       "      <td>2018</td>\n",
       "      <td>USA</td>\n",
       "      <td>F</td>\n",
       "      <td>N</td>\n",
       "    </tr>\n",
       "    <tr>\n",
       "      <th>3766</th>\n",
       "      <td>,Sep-</td>\n",
       "      <td>2018</td>\n",
       "      <td>AUSTRALIA</td>\n",
       "      <td>M</td>\n",
       "      <td>N</td>\n",
       "    </tr>\n",
       "    <tr>\n",
       "      <th>5150</th>\n",
       "      <td>,Mar-</td>\n",
       "      <td>2018</td>\n",
       "      <td>AUSTRALIA</td>\n",
       "      <td>M</td>\n",
       "      <td>N</td>\n",
       "    </tr>\n",
       "    <tr>\n",
       "      <th>3937</th>\n",
       "      <td>,Apr-</td>\n",
       "      <td>2018</td>\n",
       "      <td>AUSTRALIA</td>\n",
       "      <td>M</td>\n",
       "      <td>N</td>\n",
       "    </tr>\n",
       "  </tbody>\n",
       "</table>\n",
       "<p>5105 rows × 5 columns</p>\n",
       "</div>"
      ],
      "text/plain": [
       "       Moth  Year                   Country Sex Fatal\n",
       "2498      ,     5                 AUSTRALIA   M     N\n",
       "2500      ,    77                       NaN   M     Y\n",
       "4202  ,Jun-   500                    MEXICO   M     N\n",
       "2501      ,  1543                 VENEZUELA   M     Y\n",
       "720   ,Apr-  1580  Between PORTUGAL & INDIA   M     Y\n",
       "...     ...   ...                       ...  ..   ...\n",
       "1298  ,Aug-  2018                    BRAZIL   M     N\n",
       "4021  ,Jun-  2018                       USA   F     N\n",
       "3766  ,Sep-  2018                 AUSTRALIA   M     N\n",
       "5150  ,Mar-  2018                 AUSTRALIA   M     N\n",
       "3937  ,Apr-  2018                 AUSTRALIA   M     N\n",
       "\n",
       "[5105 rows x 5 columns]"
      ]
     },
     "execution_count": 42,
     "metadata": {},
     "output_type": "execute_result"
    }
   ],
   "source": [
    "data_clear1.sort_values(by=\"Year\")"
   ]
  },
  {
   "cell_type": "code",
   "execution_count": 43,
   "id": "deluxe-liberia",
   "metadata": {
    "scrolled": true
   },
   "outputs": [],
   "source": [
    "data_clear1.drop(axis=0, index=2498, inplace=True)\n",
    "data_clear1.drop(axis=0, index=2500, inplace=True)"
   ]
  },
  {
   "cell_type": "code",
   "execution_count": 44,
   "id": "textile-poison",
   "metadata": {
    "scrolled": true
   },
   "outputs": [],
   "source": [
    "data_clear1\n",
    "data_clear1.index = range(1,5104)\n",
    "data_clear1.sort_values(by=\"Year\")\n",
    "data_clear1.drop(axis=0, index=4095, inplace=True)"
   ]
  },
  {
   "cell_type": "code",
   "execution_count": 45,
   "id": "convertible-engagement",
   "metadata": {
    "scrolled": true
   },
   "outputs": [
    {
     "ename": "TypeError",
     "evalue": "Index(...) must be called with a collection of some kind, 'Country' was passed",
     "output_type": "error",
     "traceback": [
      "\u001b[0;31m---------------------------------------------------------------------------\u001b[0m",
      "\u001b[0;31mTypeError\u001b[0m                                 Traceback (most recent call last)",
      "\u001b[0;32m<ipython-input-45-105761ebff05>\u001b[0m in \u001b[0;36m<module>\u001b[0;34m\u001b[0m\n\u001b[0;32m----> 1\u001b[0;31m \u001b[0mdata_clear1\u001b[0m\u001b[0;34m.\u001b[0m\u001b[0mdropna\u001b[0m\u001b[0;34m(\u001b[0m\u001b[0maxis\u001b[0m\u001b[0;34m=\u001b[0m\u001b[0;36m0\u001b[0m\u001b[0;34m,\u001b[0m\u001b[0msubset\u001b[0m\u001b[0;34m=\u001b[0m\u001b[0;34m\"Country\"\u001b[0m\u001b[0;34m)\u001b[0m\u001b[0;34m\u001b[0m\u001b[0;34m\u001b[0m\u001b[0m\n\u001b[0m",
      "\u001b[0;32m/usr/local/lib/python3.9/site-packages/pandas/core/frame.py\u001b[0m in \u001b[0;36mdropna\u001b[0;34m(self, axis, how, thresh, subset, inplace)\u001b[0m\n\u001b[1;32m   5154\u001b[0m         \u001b[0;32mif\u001b[0m \u001b[0msubset\u001b[0m \u001b[0;32mis\u001b[0m \u001b[0;32mnot\u001b[0m \u001b[0;32mNone\u001b[0m\u001b[0;34m:\u001b[0m\u001b[0;34m\u001b[0m\u001b[0;34m\u001b[0m\u001b[0m\n\u001b[1;32m   5155\u001b[0m             \u001b[0max\u001b[0m \u001b[0;34m=\u001b[0m \u001b[0mself\u001b[0m\u001b[0;34m.\u001b[0m\u001b[0m_get_axis\u001b[0m\u001b[0;34m(\u001b[0m\u001b[0magg_axis\u001b[0m\u001b[0;34m)\u001b[0m\u001b[0;34m\u001b[0m\u001b[0;34m\u001b[0m\u001b[0m\n\u001b[0;32m-> 5156\u001b[0;31m             \u001b[0mindices\u001b[0m \u001b[0;34m=\u001b[0m \u001b[0max\u001b[0m\u001b[0;34m.\u001b[0m\u001b[0mget_indexer_for\u001b[0m\u001b[0;34m(\u001b[0m\u001b[0msubset\u001b[0m\u001b[0;34m)\u001b[0m\u001b[0;34m\u001b[0m\u001b[0;34m\u001b[0m\u001b[0m\n\u001b[0m\u001b[1;32m   5157\u001b[0m             \u001b[0mcheck\u001b[0m \u001b[0;34m=\u001b[0m \u001b[0mindices\u001b[0m \u001b[0;34m==\u001b[0m \u001b[0;34m-\u001b[0m\u001b[0;36m1\u001b[0m\u001b[0;34m\u001b[0m\u001b[0;34m\u001b[0m\u001b[0m\n\u001b[1;32m   5158\u001b[0m             \u001b[0;32mif\u001b[0m \u001b[0mcheck\u001b[0m\u001b[0;34m.\u001b[0m\u001b[0many\u001b[0m\u001b[0;34m(\u001b[0m\u001b[0;34m)\u001b[0m\u001b[0;34m:\u001b[0m\u001b[0;34m\u001b[0m\u001b[0;34m\u001b[0m\u001b[0m\n",
      "\u001b[0;32m/usr/local/lib/python3.9/site-packages/pandas/core/indexes/base.py\u001b[0m in \u001b[0;36mget_indexer_for\u001b[0;34m(self, target, **kwargs)\u001b[0m\n\u001b[1;32m   4958\u001b[0m         \"\"\"\n\u001b[1;32m   4959\u001b[0m         \u001b[0;32mif\u001b[0m \u001b[0mself\u001b[0m\u001b[0;34m.\u001b[0m\u001b[0m_index_as_unique\u001b[0m\u001b[0;34m:\u001b[0m\u001b[0;34m\u001b[0m\u001b[0;34m\u001b[0m\u001b[0m\n\u001b[0;32m-> 4960\u001b[0;31m             \u001b[0;32mreturn\u001b[0m \u001b[0mself\u001b[0m\u001b[0;34m.\u001b[0m\u001b[0mget_indexer\u001b[0m\u001b[0;34m(\u001b[0m\u001b[0mtarget\u001b[0m\u001b[0;34m,\u001b[0m \u001b[0;34m**\u001b[0m\u001b[0mkwargs\u001b[0m\u001b[0;34m)\u001b[0m\u001b[0;34m\u001b[0m\u001b[0;34m\u001b[0m\u001b[0m\n\u001b[0m\u001b[1;32m   4961\u001b[0m         \u001b[0mindexer\u001b[0m\u001b[0;34m,\u001b[0m \u001b[0m_\u001b[0m \u001b[0;34m=\u001b[0m \u001b[0mself\u001b[0m\u001b[0;34m.\u001b[0m\u001b[0mget_indexer_non_unique\u001b[0m\u001b[0;34m(\u001b[0m\u001b[0mtarget\u001b[0m\u001b[0;34m)\u001b[0m\u001b[0;34m\u001b[0m\u001b[0;34m\u001b[0m\u001b[0m\n\u001b[1;32m   4962\u001b[0m         \u001b[0;32mreturn\u001b[0m \u001b[0mindexer\u001b[0m\u001b[0;34m\u001b[0m\u001b[0;34m\u001b[0m\u001b[0m\n",
      "\u001b[0;32m/usr/local/lib/python3.9/site-packages/pandas/core/indexes/base.py\u001b[0m in \u001b[0;36mget_indexer\u001b[0;34m(self, target, method, limit, tolerance)\u001b[0m\n\u001b[1;32m   3145\u001b[0m     ) -> np.ndarray:\n\u001b[1;32m   3146\u001b[0m         \u001b[0mmethod\u001b[0m \u001b[0;34m=\u001b[0m \u001b[0mmissing\u001b[0m\u001b[0;34m.\u001b[0m\u001b[0mclean_reindex_fill_method\u001b[0m\u001b[0;34m(\u001b[0m\u001b[0mmethod\u001b[0m\u001b[0;34m)\u001b[0m\u001b[0;34m\u001b[0m\u001b[0;34m\u001b[0m\u001b[0m\n\u001b[0;32m-> 3147\u001b[0;31m         \u001b[0mtarget\u001b[0m \u001b[0;34m=\u001b[0m \u001b[0mensure_index\u001b[0m\u001b[0;34m(\u001b[0m\u001b[0mtarget\u001b[0m\u001b[0;34m)\u001b[0m\u001b[0;34m\u001b[0m\u001b[0;34m\u001b[0m\u001b[0m\n\u001b[0m\u001b[1;32m   3148\u001b[0m         \u001b[0;32mif\u001b[0m \u001b[0mtolerance\u001b[0m \u001b[0;32mis\u001b[0m \u001b[0;32mnot\u001b[0m \u001b[0;32mNone\u001b[0m\u001b[0;34m:\u001b[0m\u001b[0;34m\u001b[0m\u001b[0;34m\u001b[0m\u001b[0m\n\u001b[1;32m   3149\u001b[0m             \u001b[0mtolerance\u001b[0m \u001b[0;34m=\u001b[0m \u001b[0mself\u001b[0m\u001b[0;34m.\u001b[0m\u001b[0m_convert_tolerance\u001b[0m\u001b[0;34m(\u001b[0m\u001b[0mtolerance\u001b[0m\u001b[0;34m,\u001b[0m \u001b[0mtarget\u001b[0m\u001b[0;34m)\u001b[0m\u001b[0;34m\u001b[0m\u001b[0;34m\u001b[0m\u001b[0m\n",
      "\u001b[0;32m/usr/local/lib/python3.9/site-packages/pandas/core/indexes/base.py\u001b[0m in \u001b[0;36mensure_index\u001b[0;34m(index_like, copy)\u001b[0m\n\u001b[1;32m   5915\u001b[0m             \u001b[0mindex_like\u001b[0m \u001b[0;34m=\u001b[0m \u001b[0mcopy_func\u001b[0m\u001b[0;34m(\u001b[0m\u001b[0mindex_like\u001b[0m\u001b[0;34m)\u001b[0m\u001b[0;34m\u001b[0m\u001b[0;34m\u001b[0m\u001b[0m\n\u001b[1;32m   5916\u001b[0m \u001b[0;34m\u001b[0m\u001b[0m\n\u001b[0;32m-> 5917\u001b[0;31m     \u001b[0;32mreturn\u001b[0m \u001b[0mIndex\u001b[0m\u001b[0;34m(\u001b[0m\u001b[0mindex_like\u001b[0m\u001b[0;34m)\u001b[0m\u001b[0;34m\u001b[0m\u001b[0;34m\u001b[0m\u001b[0m\n\u001b[0m\u001b[1;32m   5918\u001b[0m \u001b[0;34m\u001b[0m\u001b[0m\n\u001b[1;32m   5919\u001b[0m \u001b[0;34m\u001b[0m\u001b[0m\n",
      "\u001b[0;32m/usr/local/lib/python3.9/site-packages/pandas/core/indexes/base.py\u001b[0m in \u001b[0;36m__new__\u001b[0;34m(cls, data, dtype, copy, name, tupleize_cols, **kwargs)\u001b[0m\n\u001b[1;32m    370\u001b[0m \u001b[0;34m\u001b[0m\u001b[0m\n\u001b[1;32m    371\u001b[0m         \u001b[0;32melif\u001b[0m \u001b[0mdata\u001b[0m \u001b[0;32mis\u001b[0m \u001b[0;32mNone\u001b[0m \u001b[0;32mor\u001b[0m \u001b[0mis_scalar\u001b[0m\u001b[0;34m(\u001b[0m\u001b[0mdata\u001b[0m\u001b[0;34m)\u001b[0m\u001b[0;34m:\u001b[0m\u001b[0;34m\u001b[0m\u001b[0;34m\u001b[0m\u001b[0m\n\u001b[0;32m--> 372\u001b[0;31m             \u001b[0;32mraise\u001b[0m \u001b[0mcls\u001b[0m\u001b[0;34m.\u001b[0m\u001b[0m_scalar_data_error\u001b[0m\u001b[0;34m(\u001b[0m\u001b[0mdata\u001b[0m\u001b[0;34m)\u001b[0m\u001b[0;34m\u001b[0m\u001b[0;34m\u001b[0m\u001b[0m\n\u001b[0m\u001b[1;32m    373\u001b[0m         \u001b[0;32melif\u001b[0m \u001b[0mhasattr\u001b[0m\u001b[0;34m(\u001b[0m\u001b[0mdata\u001b[0m\u001b[0;34m,\u001b[0m \u001b[0;34m\"__array__\"\u001b[0m\u001b[0;34m)\u001b[0m\u001b[0;34m:\u001b[0m\u001b[0;34m\u001b[0m\u001b[0;34m\u001b[0m\u001b[0m\n\u001b[1;32m    374\u001b[0m             \u001b[0;32mreturn\u001b[0m \u001b[0mIndex\u001b[0m\u001b[0;34m(\u001b[0m\u001b[0mnp\u001b[0m\u001b[0;34m.\u001b[0m\u001b[0masarray\u001b[0m\u001b[0;34m(\u001b[0m\u001b[0mdata\u001b[0m\u001b[0;34m)\u001b[0m\u001b[0;34m,\u001b[0m \u001b[0mdtype\u001b[0m\u001b[0;34m=\u001b[0m\u001b[0mdtype\u001b[0m\u001b[0;34m,\u001b[0m \u001b[0mcopy\u001b[0m\u001b[0;34m=\u001b[0m\u001b[0mcopy\u001b[0m\u001b[0;34m,\u001b[0m \u001b[0mname\u001b[0m\u001b[0;34m=\u001b[0m\u001b[0mname\u001b[0m\u001b[0;34m,\u001b[0m \u001b[0;34m**\u001b[0m\u001b[0mkwargs\u001b[0m\u001b[0;34m)\u001b[0m\u001b[0;34m\u001b[0m\u001b[0;34m\u001b[0m\u001b[0m\n",
      "\u001b[0;31mTypeError\u001b[0m: Index(...) must be called with a collection of some kind, 'Country' was passed"
     ]
    }
   ],
   "source": [
    "#Delete the null Countries.\n",
    "data_clear1.dropna(axis=0,subset=\"Country\")"
   ]
  },
  {
   "cell_type": "code",
   "execution_count": 46,
   "id": "exposed-translation",
   "metadata": {},
   "outputs": [],
   "source": [
    "data_clear1.drop(data_clear1[data_clear1[\"Country\"].isnull()].index,inplace=True)"
   ]
  },
  {
   "cell_type": "code",
   "execution_count": 47,
   "id": "ambient-national",
   "metadata": {
    "scrolled": true
   },
   "outputs": [
    {
     "data": {
      "text/plain": [
       "1157"
      ]
     },
     "execution_count": 47,
     "metadata": {},
     "output_type": "execute_result"
    }
   ],
   "source": [
    "data_clear2 = data_clear1.sort_values(by=\"Year\", ascending=False)\n",
    "data_clear3 = data_clear2[:1157]\n",
    "len(data_clear3)"
   ]
  },
  {
   "cell_type": "code",
   "execution_count": 48,
   "id": "cardiovascular-dependence",
   "metadata": {},
   "outputs": [
    {
     "data": {
      "text/plain": [
       "array([',Jul-', ',Nov-', ',May-', ',Feb-', ',Sep-', ',Jan-', ',Mar-',\n",
       "       ',Aug-', ',Apr-', ',Dec-', ',Jun-', ',', ',Oct-', ',July-', ',Ap-',\n",
       "       '-'], dtype=object)"
      ]
     },
     "execution_count": 48,
     "metadata": {},
     "output_type": "execute_result"
    }
   ],
   "source": [
    "#Delete of the repeated data. \n",
    "data_clear6 = data_clear3.drop_duplicates()\n",
    "len(data_clear6)\n",
    "data_clear6.index = range(0,679)\n",
    "data_clear6[\"Moth\"].unique()"
   ]
  },
  {
   "cell_type": "code",
   "execution_count": 49,
   "id": "soviet-collapse",
   "metadata": {
    "scrolled": true
   },
   "outputs": [
    {
     "name": "stderr",
     "output_type": "stream",
     "text": [
      "/usr/local/lib/python3.9/site-packages/pandas/core/series.py:963: SettingWithCopyWarning: \n",
      "A value is trying to be set on a copy of a slice from a DataFrame\n",
      "\n",
      "See the caveats in the documentation: https://pandas.pydata.org/pandas-docs/stable/user_guide/indexing.html#returning-a-view-versus-a-copy\n",
      "  self._where(~key, value, inplace=True)\n"
     ]
    },
    {
     "data": {
      "text/html": [
       "<div>\n",
       "<style scoped>\n",
       "    .dataframe tbody tr th:only-of-type {\n",
       "        vertical-align: middle;\n",
       "    }\n",
       "\n",
       "    .dataframe tbody tr th {\n",
       "        vertical-align: top;\n",
       "    }\n",
       "\n",
       "    .dataframe thead th {\n",
       "        text-align: right;\n",
       "    }\n",
       "</style>\n",
       "<table border=\"1\" class=\"dataframe\">\n",
       "  <thead>\n",
       "    <tr style=\"text-align: right;\">\n",
       "      <th></th>\n",
       "      <th>Month</th>\n",
       "      <th>Year</th>\n",
       "      <th>Country</th>\n",
       "      <th>Sex</th>\n",
       "      <th>Fatal</th>\n",
       "    </tr>\n",
       "  </thead>\n",
       "  <tbody>\n",
       "    <tr>\n",
       "      <th>0</th>\n",
       "      <td>Jul</td>\n",
       "      <td>2018</td>\n",
       "      <td>AUSTRALIA</td>\n",
       "      <td>M</td>\n",
       "      <td>N</td>\n",
       "    </tr>\n",
       "    <tr>\n",
       "      <th>1</th>\n",
       "      <td>Nov</td>\n",
       "      <td>2018</td>\n",
       "      <td>USA</td>\n",
       "      <td>M</td>\n",
       "      <td>N</td>\n",
       "    </tr>\n",
       "    <tr>\n",
       "      <th>2</th>\n",
       "      <td>May</td>\n",
       "      <td>2018</td>\n",
       "      <td>AUSTRALIA</td>\n",
       "      <td>M</td>\n",
       "      <td>N</td>\n",
       "    </tr>\n",
       "    <tr>\n",
       "      <th>3</th>\n",
       "      <td>Feb'</td>\n",
       "      <td>2018</td>\n",
       "      <td>AUSTRALIA</td>\n",
       "      <td>M</td>\n",
       "      <td>N</td>\n",
       "    </tr>\n",
       "    <tr>\n",
       "      <th>4</th>\n",
       "      <td>Sep</td>\n",
       "      <td>2018</td>\n",
       "      <td>THAILAND</td>\n",
       "      <td>M</td>\n",
       "      <td>N</td>\n",
       "    </tr>\n",
       "    <tr>\n",
       "      <th>...</th>\n",
       "      <td>...</td>\n",
       "      <td>...</td>\n",
       "      <td>...</td>\n",
       "      <td>...</td>\n",
       "      <td>...</td>\n",
       "    </tr>\n",
       "    <tr>\n",
       "      <th>674</th>\n",
       "      <td>Oct</td>\n",
       "      <td>2008</td>\n",
       "      <td>USA</td>\n",
       "      <td>M</td>\n",
       "      <td>N</td>\n",
       "    </tr>\n",
       "    <tr>\n",
       "      <th>675</th>\n",
       "      <td>Dec</td>\n",
       "      <td>2008</td>\n",
       "      <td>SOUTH AFRICA</td>\n",
       "      <td>M</td>\n",
       "      <td>N</td>\n",
       "    </tr>\n",
       "    <tr>\n",
       "      <th>676</th>\n",
       "      <td>Feb'</td>\n",
       "      <td>2008</td>\n",
       "      <td>AUSTRALIA</td>\n",
       "      <td>F</td>\n",
       "      <td>N</td>\n",
       "    </tr>\n",
       "    <tr>\n",
       "      <th>677</th>\n",
       "      <td>May</td>\n",
       "      <td>2008</td>\n",
       "      <td>USA</td>\n",
       "      <td>M</td>\n",
       "      <td>N</td>\n",
       "    </tr>\n",
       "    <tr>\n",
       "      <th>678</th>\n",
       "      <td>Jul</td>\n",
       "      <td>2008</td>\n",
       "      <td>PANAMA</td>\n",
       "      <td>M</td>\n",
       "      <td>N</td>\n",
       "    </tr>\n",
       "  </tbody>\n",
       "</table>\n",
       "<p>679 rows × 5 columns</p>\n",
       "</div>"
      ],
      "text/plain": [
       "    Month  Year       Country Sex Fatal\n",
       "0     Jul  2018     AUSTRALIA   M     N\n",
       "1     Nov  2018           USA   M     N\n",
       "2     May  2018     AUSTRALIA   M     N\n",
       "3    Feb'  2018     AUSTRALIA   M     N\n",
       "4     Sep  2018      THAILAND   M     N\n",
       "..    ...   ...           ...  ..   ...\n",
       "674   Oct  2008           USA   M     N\n",
       "675   Dec  2008  SOUTH AFRICA   M     N\n",
       "676  Feb'  2008     AUSTRALIA   F     N\n",
       "677   May  2008           USA   M     N\n",
       "678   Jul  2008        PANAMA   M     N\n",
       "\n",
       "[679 rows x 5 columns]"
      ]
     },
     "execution_count": 49,
     "metadata": {},
     "output_type": "execute_result"
    }
   ],
   "source": [
    "#Write correct the months.\n",
    "data_clear6[\"Moth\"][data_clear6[\"Moth\"]==\",Jan-\"]= \"Jan\"\n",
    "data_clear6[\"Moth\"][data_clear6[\"Moth\"]==\",Feb-\"]= \"Feb'\"\n",
    "data_clear6[\"Moth\"][data_clear6[\"Moth\"]==\",Mar-\"]= \"Mar\"\n",
    "data_clear6[\"Moth\"][data_clear6[\"Moth\"]==\",Apr-\"]= \"Apr\"\n",
    "data_clear6[\"Moth\"][data_clear6[\"Moth\"]==\",Ap-\"]= \"Apr\"\n",
    "data_clear6[\"Moth\"][data_clear6[\"Moth\"]==\",May-\"]= \"May\"\n",
    "data_clear6[\"Moth\"][data_clear6[\"Moth\"]==\"Jun-\"]= \"Jun\"\n",
    "data_clear6[\"Moth\"][data_clear6[\"Moth\"]==\",July-\"]= \"Jul\"\n",
    "data_clear6[\"Moth\"][data_clear6[\"Moth\"]==\",Jul-\"]= \"Jul\"\n",
    "data_clear6[\"Moth\"][data_clear6[\"Moth\"]==\",Aug-\"]= \"Aug\"\n",
    "data_clear6[\"Moth\"][data_clear6[\"Moth\"]==\",Sep-\"]= \"Sep\"\n",
    "data_clear6[\"Moth\"][data_clear6[\"Moth\"]==\",Oct-\"]= \"Oct\"\n",
    "data_clear6[\"Moth\"][data_clear6[\"Moth\"]==\",Nov-\"]= \"Nov\"\n",
    "data_clear6[\"Moth\"][data_clear6[\"Moth\"]==\",Dec-\"]= \"Dec\"\n",
    "data_clear6[\"Moth\"][data_clear6[\"Moth\"]==\",\"]= \"-\"\n",
    "data_clear6.rename(columns={\"Moth\":\"Month\"})"
   ]
  },
  {
   "cell_type": "code",
   "execution_count": 65,
   "id": "twelve-afghanistan",
   "metadata": {},
   "outputs": [],
   "source": [
    "data_clear6[\"Moth\"].unique()\n",
    "df_data = data_clear6.rename(columns={\"Moth\":\"Month\"})\n",
    "#I finish to clean the data."
   ]
  },
  {
   "cell_type": "markdown",
   "id": "described-council",
   "metadata": {},
   "source": [
    "### 6º: Export the dataframe"
   ]
  },
  {
   "cell_type": "code",
   "execution_count": 63,
   "id": "black-relaxation",
   "metadata": {},
   "outputs": [],
   "source": [
    "df_data.to_csv(\"datas_clean.csv\",index=False)"
   ]
  },
  {
   "cell_type": "markdown",
   "id": "original-karaoke",
   "metadata": {},
   "source": [
    "### In this explaration I observed: \n",
    "- That the column of \"Case Number\" is wrong because are dates and no numbers. And I need to replace with the column of \"original order\".\n",
    "- From row x there is no type of data. Therefore they should be removed.\n",
    "- The columns \"href formula\" and \"href\" are the same. So i choice one of them.\n",
    "- The columns \"Case Number.1\" and \"Case Number.2\" are wrong. It´s the same that happend to the column of \"Case Number\".\n",
    "- And the columns \"Unnamed: 22\" and \"Unnamed: 23\" are empty."
   ]
  }
 ],
 "metadata": {
  "kernelspec": {
   "display_name": "Python 3",
   "language": "python",
   "name": "python3"
  },
  "language_info": {
   "codemirror_mode": {
    "name": "ipython",
    "version": 3
   },
   "file_extension": ".py",
   "mimetype": "text/x-python",
   "name": "python",
   "nbconvert_exporter": "python",
   "pygments_lexer": "ipython3",
   "version": "3.9.1"
  }
 },
 "nbformat": 4,
 "nbformat_minor": 5
}
